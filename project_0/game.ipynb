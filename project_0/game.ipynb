{
 "cells": [
  {
   "cell_type": "markdown",
   "metadata": {},
   "source": [
    "# Игра угадай число"
   ]
  },
  {
   "cell_type": "code",
   "execution_count": 2,
   "metadata": {},
   "outputs": [],
   "source": [
    "from game_v1 import score_game\n",
    "from game_v1 import half_division_predict"
   ]
  },
  {
   "cell_type": "markdown",
   "metadata": {},
   "source": [
    "## Угадываем число методом половинного деления"
   ]
  },
  {
   "cell_type": "code",
   "execution_count": 5,
   "metadata": {},
   "outputs": [
    {
     "name": "stdout",
     "output_type": "stream",
     "text": [
      "Ваш алгоритм угадывает число в среднем за:5 попыток\n"
     ]
    },
    {
     "data": {
      "text/plain": [
       "5"
      ]
     },
     "execution_count": 5,
     "metadata": {},
     "output_type": "execute_result"
    }
   ],
   "source": [
    "score_game(half_division_predict)"
   ]
  },
  {
   "cell_type": "markdown",
   "metadata": {},
   "source": [
    "## Код игры"
   ]
  },
  {
   "cell_type": "code",
   "execution_count": null,
   "metadata": {},
   "outputs": [],
   "source": [
    "\"\"\"Игра угадай число\n",
    "Компьютер сам загадывает и сам угадывает число\n",
    "\"\"\"\n",
    "\n",
    "import numpy as np\n",
    "\n",
    "\n",
    "def half_division_predict(number: int = 1) -> int:\n",
    "    \"\"\"Угадываем число методом половинного деления\n",
    "\n",
    "    Args:\n",
    "        number (int, optional): Загаданное число. Defaults to 1.\n",
    "\n",
    "    Returns:\n",
    "        int: Число попыток\n",
    "    \"\"\"\n",
    "    count = 0\n",
    "    predict_number = 50 # начальное значение предполагаемого числа\n",
    "    upper_border = 101 # начальное значение верхней границы диапазона поиска\n",
    "    lower_border = 1 # начальное значение нижней границы диапазона поиска\n",
    "    while True:\n",
    "        count += 1\n",
    "        if number == predict_number:\n",
    "            break # выход из цикла, если угадали\n",
    "                        \n",
    "        elif number > predict_number:\n",
    "            lower_border = predict_number # Передвигаем нижнюю границу\n",
    "            predict_number = int(predict_number + (upper_border - predict_number)/2)\n",
    "        else:\n",
    "            upper_border = predict_number # Передвигаем верхнюю границу\n",
    "            predict_number = int(predict_number - (predict_number - lower_border)/2)\n",
    "    return count\n",
    "\n",
    "\n",
    "def score_game(half_division_predict) -> int:\n",
    "    \"\"\"За какое количество попыток в среднем за 1000 подходов угадывает наш алгоритм\n",
    "\n",
    "    Args:\n",
    "        half_division_predict ([type]): функция угадывания\n",
    "\n",
    "    Returns:\n",
    "        int: среднее количество попыток\n",
    "    \"\"\"\n",
    "    count_ls = []\n",
    "    #np.random.seed(1)  # фиксируем сид для воспроизводимости\n",
    "    random_array = np.random.randint(1, 101, size=(1000))  # загадали список чисел\n",
    "\n",
    "    for number in random_array:\n",
    "        count_ls.append(half_division_predict(number))\n",
    "\n",
    "    score = int(np.mean(count_ls))\n",
    "    print(f\"Ваш алгоритм угадывает число в среднем за:{score} попыток\")\n",
    "    return score\n",
    "\n",
    "\n",
    "if __name__ == \"__main__\":\n",
    "    # RUN\n",
    "    score_game(half_division_predict)\n"
   ]
  },
  {
   "cell_type": "markdown",
   "metadata": {},
   "source": []
  }
 ],
 "metadata": {
  "interpreter": {
   "hash": "a7383f804a7fa68eb4558e7aad91fdf8fc696c469b9610209e6dd3c5409322bc"
  },
  "kernelspec": {
   "display_name": "Python 3.9.10 64-bit",
   "language": "python",
   "name": "python3"
  },
  "language_info": {
   "codemirror_mode": {
    "name": "ipython",
    "version": 3
   },
   "file_extension": ".py",
   "mimetype": "text/x-python",
   "name": "python",
   "nbconvert_exporter": "python",
   "pygments_lexer": "ipython3",
   "version": "3.9.10"
  },
  "orig_nbformat": 4
 },
 "nbformat": 4,
 "nbformat_minor": 2
}
